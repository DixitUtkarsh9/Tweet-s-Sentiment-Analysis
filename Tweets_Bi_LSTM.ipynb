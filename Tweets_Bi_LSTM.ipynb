{
  "nbformat": 4,
  "nbformat_minor": 0,
  "metadata": {
    "colab": {
      "provenance": [],
      "gpuType": "V28"
    },
    "kernelspec": {
      "name": "python3",
      "display_name": "Python 3"
    },
    "language_info": {
      "name": "python"
    },
    "accelerator": "TPU"
  },
  "cells": [
    {
      "cell_type": "code",
      "source": [
        "import tensorflow as tf\n",
        "import pandas as pd\n",
        "import numpy as np\n",
        "from tensorflow.keras.layers import Embedding, Bidirectional, LSTM, Dense\n",
        "from tensorflow.keras.models import Sequential\n",
        "from sklearn.metrics import accuracy_score, classification_report, confusion_matrix\n",
        "from sklearn.feature_extraction.text import TfidfVectorizer\n",
        "from sklearn.model_selection import train_test_split\n",
        "from nltk.tokenize import word_tokenize\n",
        "from nltk.corpus import stopwords\n",
        "from tensorflow.keras.preprocessing.sequence import pad_sequences\n",
        "\n",
        "import nltk\n",
        "nltk.download('stopwords')\n",
        "\n",
        "import nltk\n",
        "nltk.download('punkt')"
      ],
      "metadata": {
        "colab": {
          "base_uri": "https://localhost:8080/"
        },
        "id": "4RIVub9ltmtT",
        "outputId": "0a390ef7-7f7d-47a6-a93a-94903f069640"
      },
      "execution_count": 1,
      "outputs": [
        {
          "output_type": "stream",
          "name": "stderr",
          "text": [
            "[nltk_data] Downloading package stopwords to /root/nltk_data...\n",
            "[nltk_data]   Unzipping corpora/stopwords.zip.\n",
            "[nltk_data] Downloading package punkt to /root/nltk_data...\n",
            "[nltk_data]   Unzipping tokenizers/punkt.zip.\n"
          ]
        },
        {
          "output_type": "execute_result",
          "data": {
            "text/plain": [
              "True"
            ]
          },
          "metadata": {},
          "execution_count": 1
        }
      ]
    },
    {
      "cell_type": "code",
      "source": [
        "train_df = pd.read_csv('/content/train_E6oV3lV.csv')\n",
        "\n",
        "X_train, X_val, y_train, y_val = train_test_split(train_df['tweet'], train_df['label'], test_size=0.2, random_state=42)"
      ],
      "metadata": {
        "id": "kWdKURgat_bn"
      },
      "execution_count": 3,
      "outputs": []
    },
    {
      "cell_type": "code",
      "source": [
        "# Tokenization\n",
        "stop_words = set(stopwords.words('english'))\n",
        "def tokenize_tweet(tweet):\n",
        "    tokens = word_tokenize(tweet.lower())\n",
        "    tokens = [token for token in tokens if token not in stop_words]\n",
        "    return ' '.join(tokens)\n"
      ],
      "metadata": {
        "id": "hwspe6F5uLkv"
      },
      "execution_count": 4,
      "outputs": []
    },
    {
      "cell_type": "code",
      "source": [
        "X_train_tokenized = X_train.apply(tokenize_tweet)\n",
        "X_val_tokenized = X_val.apply(tokenize_tweet)"
      ],
      "metadata": {
        "id": "0ZlaAHABuNP4"
      },
      "execution_count": 5,
      "outputs": []
    },
    {
      "cell_type": "code",
      "source": [
        "vectorizer = TfidfVectorizer(max_features=5000)\n",
        "X_train_tfidf = vectorizer.fit_transform(X_train_tokenized)\n",
        "X_val_tfidf = vectorizer.transform(X_val_tokenized)"
      ],
      "metadata": {
        "id": "DKimskcHuNYw"
      },
      "execution_count": 6,
      "outputs": []
    },
    {
      "cell_type": "code",
      "source": [
        "max_length = 200\n",
        "# Reshape the input data to 3D before padding:\n",
        "X_train_tfidf_3d = X_train_tfidf.toarray().reshape(X_train_tfidf.shape[0], X_train_tfidf.shape[1], 1)\n",
        "X_val_tfidf_3d = X_val_tfidf.toarray().reshape(X_val_tfidf.shape[0], X_val_tfidf.shape[1], 1)"
      ],
      "metadata": {
        "id": "EWQgv4KtuNhO"
      },
      "execution_count": 7,
      "outputs": []
    },
    {
      "cell_type": "code",
      "source": [
        "# Pad the 3D data, specifying the correct axis:\n",
        "X_train_padded = pad_sequences(X_train_tfidf_3d, maxlen=max_length, padding='post', truncating='post')\n",
        "X_val_padded = pad_sequences(X_val_tfidf_3d, maxlen=max_length, padding='post', truncating='post')"
      ],
      "metadata": {
        "id": "AX7Qw8znuNk7"
      },
      "execution_count": 9,
      "outputs": []
    },
    {
      "cell_type": "code",
      "source": [
        "model = Sequential()\n",
        "model.add(Embedding(input_dim=5000, output_dim=128, input_length=max_length))\n",
        "model.add(Bidirectional(LSTM(64, dropout=0.2)))\n",
        "model.add(Dense(8, activation='softmax'))"
      ],
      "metadata": {
        "id": "DcYLu2XJuNoS"
      },
      "execution_count": 10,
      "outputs": []
    },
    {
      "cell_type": "code",
      "source": [
        "model.compile(optimizer='adam', loss='sparse_categorical_crossentropy', metrics=['accuracy'])"
      ],
      "metadata": {
        "id": "1CFS0Utxu37W"
      },
      "execution_count": 11,
      "outputs": []
    },
    {
      "cell_type": "code",
      "source": [
        "model.fit(X_train_padded, y_train, validation_data=(X_val_padded, y_val), epochs=5, batch_size=32)"
      ],
      "metadata": {
        "colab": {
          "base_uri": "https://localhost:8080/"
        },
        "id": "SJCWM7W3u39s",
        "outputId": "ff1197bb-96c7-498a-d453-730ddc9fd3cc"
      },
      "execution_count": 12,
      "outputs": [
        {
          "output_type": "stream",
          "name": "stdout",
          "text": [
            "Epoch 1/5\n",
            "800/800 [==============================] - 80s 95ms/step - loss: 0.2764 - accuracy: 0.9290 - val_loss: 0.2606 - val_accuracy: 0.9287\n",
            "Epoch 2/5\n",
            "800/800 [==============================] - 76s 95ms/step - loss: 0.2551 - accuracy: 0.9301 - val_loss: 0.2576 - val_accuracy: 0.9287\n",
            "Epoch 3/5\n",
            "800/800 [==============================] - 76s 95ms/step - loss: 0.2549 - accuracy: 0.9301 - val_loss: 0.2584 - val_accuracy: 0.9287\n",
            "Epoch 4/5\n",
            "800/800 [==============================] - 76s 95ms/step - loss: 0.2552 - accuracy: 0.9301 - val_loss: 0.2572 - val_accuracy: 0.9287\n",
            "Epoch 5/5\n",
            "800/800 [==============================] - 75s 94ms/step - loss: 0.2544 - accuracy: 0.9301 - val_loss: 0.2578 - val_accuracy: 0.9287\n"
          ]
        },
        {
          "output_type": "execute_result",
          "data": {
            "text/plain": [
              "<keras.src.callbacks.History at 0x79ec4a2912a0>"
            ]
          },
          "metadata": {},
          "execution_count": 12
        }
      ]
    },
    {
      "cell_type": "code",
      "source": [
        "test_df = pd.read_csv('/content/test_tweets_anuFYb8.csv')\n",
        "X_test_tokenized = test_df['tweet'].apply(tokenize_tweet)\n",
        "X_test_tfidf = vectorizer.transform(X_test_tokenized)\n",
        "X_test_padded = tf.keras.preprocessing.sequence.pad_sequences(X_test_tfidf.toarray(), maxlen=max_length)"
      ],
      "metadata": {
        "id": "uiIjMI53u4BJ"
      },
      "execution_count": 13,
      "outputs": []
    },
    {
      "cell_type": "code",
      "execution_count": 31,
      "metadata": {
        "colab": {
          "base_uri": "https://localhost:8080/"
        },
        "id": "Lal-D4aUta4N",
        "outputId": "069c9e1c-1e4c-407d-86e9-c052e4207a75"
      },
      "outputs": [
        {
          "output_type": "stream",
          "name": "stdout",
          "text": [
            "200/200 [==============================] - 6s 28ms/step\n"
          ]
        }
      ],
      "source": [
        "y_pred_test = model.predict(X_val_padded)"
      ]
    },
    {
      "cell_type": "code",
      "source": [
        "X_val_padded = tf.keras.preprocessing.sequence.pad_sequences(X_val_tfidf.toarray(), maxlen=max_length)"
      ],
      "metadata": {
        "id": "sVWWJb1qx0Zu"
      },
      "execution_count": 22,
      "outputs": []
    },
    {
      "cell_type": "code",
      "source": [
        "print(\"Validation metrics:\")\n",
        "print(\"Accuracy:\", accuracy_score(y_val, y_pred_test.argmax(-1)))"
      ],
      "metadata": {
        "colab": {
          "base_uri": "https://localhost:8080/"
        },
        "id": "Ahb0Kbu3w88S",
        "outputId": "8917e9ce-5bcf-4e3f-d465-885484cee074"
      },
      "execution_count": 34,
      "outputs": [
        {
          "output_type": "stream",
          "name": "stdout",
          "text": [
            "Validation metrics:\n",
            "Accuracy: 0.9286719849835758\n"
          ]
        }
      ]
    },
    {
      "cell_type": "code",
      "source": [
        "print(\"Classification Report:\")\n",
        "print(classification_report(y_val, y_pred_test.argmax(-1)))"
      ],
      "metadata": {
        "colab": {
          "base_uri": "https://localhost:8080/"
        },
        "id": "DTO3wTInxBqm",
        "outputId": "b4fcbce7-021e-4594-f908-ca9129fae83d"
      },
      "execution_count": 33,
      "outputs": [
        {
          "output_type": "stream",
          "name": "stdout",
          "text": [
            "Classification Report:\n",
            "              precision    recall  f1-score   support\n",
            "\n",
            "           0       0.93      1.00      0.96      5937\n",
            "           1       0.00      0.00      0.00       456\n",
            "\n",
            "    accuracy                           0.93      6393\n",
            "   macro avg       0.46      0.50      0.48      6393\n",
            "weighted avg       0.86      0.93      0.89      6393\n",
            "\n"
          ]
        },
        {
          "output_type": "stream",
          "name": "stderr",
          "text": [
            "/usr/local/lib/python3.10/dist-packages/sklearn/metrics/_classification.py:1531: UndefinedMetricWarning: Precision is ill-defined and being set to 0.0 in labels with no predicted samples. Use `zero_division` parameter to control this behavior.\n",
            "  _warn_prf(average, modifier, f\"{metric.capitalize()} is\", len(result))\n",
            "/usr/local/lib/python3.10/dist-packages/sklearn/metrics/_classification.py:1531: UndefinedMetricWarning: Precision is ill-defined and being set to 0.0 in labels with no predicted samples. Use `zero_division` parameter to control this behavior.\n",
            "  _warn_prf(average, modifier, f\"{metric.capitalize()} is\", len(result))\n",
            "/usr/local/lib/python3.10/dist-packages/sklearn/metrics/_classification.py:1531: UndefinedMetricWarning: Precision is ill-defined and being set to 0.0 in labels with no predicted samples. Use `zero_division` parameter to control this behavior.\n",
            "  _warn_prf(average, modifier, f\"{metric.capitalize()} is\", len(result))\n"
          ]
        }
      ]
    },
    {
      "cell_type": "code",
      "source": [
        "print(\"Confusion Matrix:\")\n",
        "print(confusion_matrix(y_val, y_pred_test.argmax(-1)))"
      ],
      "metadata": {
        "colab": {
          "base_uri": "https://localhost:8080/"
        },
        "id": "-FC6RbuozwEd",
        "outputId": "8d7762d7-9c44-4232-c797-15818ec49e44"
      },
      "execution_count": 35,
      "outputs": [
        {
          "output_type": "stream",
          "name": "stdout",
          "text": [
            "Confusion Matrix:\n",
            "[[5937    0]\n",
            " [ 456    0]]\n"
          ]
        }
      ]
    },
    {
      "cell_type": "code",
      "source": [],
      "metadata": {
        "id": "qOfMpeUp0HCs"
      },
      "execution_count": null,
      "outputs": []
    }
  ]
}