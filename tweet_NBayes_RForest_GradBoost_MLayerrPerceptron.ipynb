{
 "cells": [
  {
   "cell_type": "code",
   "execution_count": 1,
   "id": "89fdbf76-5ea4-45bf-8ed1-30019497c906",
   "metadata": {},
   "outputs": [],
   "source": [
    "import pandas as pd\n",
    "import numpy as np\n",
    "from nltk.tokenize import word_tokenize\n",
    "from nltk.corpus import stopwords\n",
    "from sklearn.feature_extraction.text import TfidfVectorizer\n",
    "from sklearn.model_selection import train_test_split\n",
    "from sklearn.linear_model import LogisticRegression\n",
    "from sklearn.metrics import accuracy_score, classification_report, confusion_matrix"
   ]
  },
  {
   "cell_type": "code",
   "execution_count": 2,
   "id": "2f02c4e2-ff42-46a4-8093-008ac6891d50",
   "metadata": {},
   "outputs": [
    {
     "name": "stderr",
     "output_type": "stream",
     "text": [
      "[nltk_data] Downloading package stopwords to\n",
      "[nltk_data]     C:\\Users\\dixit\\AppData\\Roaming\\nltk_data...\n",
      "[nltk_data]   Package stopwords is already up-to-date!\n"
     ]
    },
    {
     "data": {
      "text/plain": [
       "True"
      ]
     },
     "execution_count": 2,
     "metadata": {},
     "output_type": "execute_result"
    }
   ],
   "source": [
    "import nltk\n",
    "nltk.download('stopwords')"
   ]
  },
  {
   "cell_type": "code",
   "execution_count": 3,
   "id": "8846d86d-bca5-441a-98c2-b90c31f24ab0",
   "metadata": {},
   "outputs": [
    {
     "name": "stderr",
     "output_type": "stream",
     "text": [
      "[nltk_data] Downloading package punkt to\n",
      "[nltk_data]     C:\\Users\\dixit\\AppData\\Roaming\\nltk_data...\n",
      "[nltk_data]   Package punkt is already up-to-date!\n"
     ]
    },
    {
     "data": {
      "text/plain": [
       "True"
      ]
     },
     "execution_count": 3,
     "metadata": {},
     "output_type": "execute_result"
    }
   ],
   "source": [
    "import nltk\n",
    "nltk.download('punkt')"
   ]
  },
  {
   "cell_type": "code",
   "execution_count": 4,
   "id": "9cf6d53b-30ef-44b9-98b4-ccc6976eb2cd",
   "metadata": {},
   "outputs": [],
   "source": [
    "train_df = pd.read_csv('train_E6oV3lV.csv')"
   ]
  },
  {
   "cell_type": "code",
   "execution_count": 5,
   "id": "8c46c958-68a6-436d-9b9f-31852de2f38b",
   "metadata": {},
   "outputs": [],
   "source": [
    "X_train, X_val, y_train, y_val = train_test_split(train_df['tweet'], train_df['label'], test_size=0.2, random_state=42)\n",
    "\n",
    "stop_words = set(stopwords.words('english'))\n",
    "\n",
    "def tokenize_tweet(tweet):\n",
    "    tokens = word_tokenize(tweet.lower())\n",
    "    tokens = [token for token in tokens if token not in stop_words]\n",
    "    return ' '.join(tokens)\n",
    "\n",
    "X_train_tokenized = X_train.apply(tokenize_tweet)\n",
    "X_val_tokenized = X_val.apply(tokenize_tweet)\n",
    "\n",
    "vectorizer = TfidfVectorizer(max_features=5000)\n",
    "X_train_tfidf = vectorizer.fit_transform(X_train_tokenized)\n",
    "X_val_tfidf = vectorizer.transform(X_val_tokenized)"
   ]
  },
  {
   "cell_type": "code",
   "execution_count": 6,
   "id": "6789c0a0-811c-46e6-a8a8-e18b1a7ed804",
   "metadata": {},
   "outputs": [],
   "source": [
    "from sklearn.naive_bayes import MultinomialNB\n",
    "\n",
    "nb = MultinomialNB()\n",
    "nb.fit(X_train_tfidf, y_train)\n",
    "y_pred_nb = nb.predict(X_val_tfidf)"
   ]
  },
  {
   "cell_type": "code",
   "execution_count": 8,
   "id": "e06b38c4-2d56-4691-93b1-05333f64bfc5",
   "metadata": {},
   "outputs": [
    {
     "name": "stdout",
     "output_type": "stream",
     "text": [
      "Validation metrics:\n",
      "Accuracy: 0.9508837791334271\n"
     ]
    }
   ],
   "source": [
    "print(\"Validation metrics:\")\n",
    "print(\"Accuracy:\", accuracy_score(y_val, y_pred_nb))"
   ]
  },
  {
   "cell_type": "code",
   "execution_count": 9,
   "id": "51d9c14d-831b-4c5d-bf54-3010394c7604",
   "metadata": {},
   "outputs": [
    {
     "name": "stdout",
     "output_type": "stream",
     "text": [
      "Classification Report:\n",
      "              precision    recall  f1-score   support\n",
      "\n",
      "           0       0.95      1.00      0.97      5937\n",
      "           1       0.94      0.33      0.49       456\n",
      "\n",
      "    accuracy                           0.95      6393\n",
      "   macro avg       0.95      0.66      0.73      6393\n",
      "weighted avg       0.95      0.95      0.94      6393\n",
      "\n"
     ]
    }
   ],
   "source": [
    "print(\"Classification Report:\")\n",
    "print(classification_report(y_val, y_pred_nb))"
   ]
  },
  {
   "cell_type": "code",
   "execution_count": 10,
   "id": "8930e0c7-7eb8-4632-9b3b-48f56790fcbd",
   "metadata": {},
   "outputs": [],
   "source": [
    "test_df = pd.read_csv('test_tweets_anuFYb8.csv')"
   ]
  },
  {
   "cell_type": "code",
   "execution_count": 11,
   "id": "aea25e4e-71bb-4c39-9f69-37df16319492",
   "metadata": {},
   "outputs": [],
   "source": [
    "X_test_tokenized = test_df['tweet'].apply(tokenize_tweet)\n",
    "X_test_tfidf = vectorizer.transform(X_test_tokenized)"
   ]
  },
  {
   "cell_type": "code",
   "execution_count": 20,
   "id": "2c37a015-4c55-428d-b059-37c09f185f4f",
   "metadata": {},
   "outputs": [],
   "source": [
    "y_pred_test_nb = nb.predict(X_test_tfidf)"
   ]
  },
  {
   "cell_type": "code",
   "execution_count": 22,
   "id": "fadf3bc5-2361-42ce-b9d9-12aca0e5c916",
   "metadata": {},
   "outputs": [
    {
     "name": "stdout",
     "output_type": "stream",
     "text": [
      "Validation F1-Score Logistic Reg: 0.49025974025974023\n"
     ]
    }
   ],
   "source": [
    "from sklearn.metrics import f1_score\n",
    "y_pred = nb.predict(X_val_tfidf)\n",
    "y_val_true = y_val\n",
    "\n",
    "f1 = f1_score(y_val_true, y_pred)\n",
    "print(\"Validation F1-Score Naive Bayes:\", f1)"
   ]
  },
  {
   "cell_type": "code",
   "execution_count": 25,
   "id": "25893536-9ca1-43e2-9ef1-ba80b42e7b54",
   "metadata": {},
   "outputs": [],
   "source": [
    "from sklearn.svm import SVC\n",
    "svm = SVC(kernel='linear', C=1)\n",
    "svm.fit(X_train_tfidf, y_train)\n",
    "y_pred_svm = svm.predict(X_val_tfidf)"
   ]
  },
  {
   "cell_type": "code",
   "execution_count": 26,
   "id": "66acbe28-6fcc-47f0-b701-47d8928ea8a2",
   "metadata": {},
   "outputs": [
    {
     "name": "stdout",
     "output_type": "stream",
     "text": [
      "Validation metrics:\n",
      "Accuracy: 0.9582355701548568\n"
     ]
    }
   ],
   "source": [
    "print(\"Validation metrics:\")\n",
    "print(\"Accuracy:\", accuracy_score(y_val, y_pred_svm))"
   ]
  },
  {
   "cell_type": "code",
   "execution_count": 27,
   "id": "fcff331f-5ae9-4daa-9687-512399cde53d",
   "metadata": {},
   "outputs": [
    {
     "name": "stdout",
     "output_type": "stream",
     "text": [
      "Classification Report:\n",
      "              precision    recall  f1-score   support\n",
      "\n",
      "           0       0.96      1.00      0.98      5937\n",
      "           1       0.88      0.48      0.62       456\n",
      "\n",
      "    accuracy                           0.96      6393\n",
      "   macro avg       0.92      0.74      0.80      6393\n",
      "weighted avg       0.96      0.96      0.95      6393\n",
      "\n"
     ]
    }
   ],
   "source": [
    "print(\"Classification Report:\")\n",
    "print(classification_report(y_val, y_pred_svm))"
   ]
  },
  {
   "cell_type": "code",
   "execution_count": 30,
   "id": "c8907689-117c-4e6d-831e-0788a1fbab06",
   "metadata": {},
   "outputs": [
    {
     "name": "stdout",
     "output_type": "stream",
     "text": [
      "Validation F1-Score Naive Bayes: 0.620199146514936\n"
     ]
    }
   ],
   "source": [
    "from sklearn.metrics import f1_score\n",
    "y_pred = svm.predict(X_val_tfidf)\n",
    "y_val_true = y_val\n",
    "\n",
    "f1 = f1_score(y_val_true, y_pred)\n",
    "print(\"Validation F1-Score Naive Bayes:\", f1)"
   ]
  },
  {
   "cell_type": "code",
   "execution_count": 31,
   "id": "670cf1d5-cf1c-4807-8c32-e9c1d21c2535",
   "metadata": {},
   "outputs": [],
   "source": [
    "from sklearn.ensemble import RandomForestClassifier\n",
    "\n",
    "rf = RandomForestClassifier(n_estimators=100, random_state=42)\n",
    "rf.fit(X_train_tfidf, y_train)\n",
    "y_pred_rf = rf.predict(X_val_tfidf)"
   ]
  },
  {
   "cell_type": "code",
   "execution_count": 32,
   "id": "4400e2b1-a4ca-4517-bb2d-124d9f85cb29",
   "metadata": {},
   "outputs": [
    {
     "name": "stdout",
     "output_type": "stream",
     "text": [
      "Validation metrics:\n",
      "Accuracy: 0.9580791490692946\n"
     ]
    }
   ],
   "source": [
    "print(\"Validation metrics:\")\n",
    "print(\"Accuracy:\", accuracy_score(y_val, y_pred_rf))"
   ]
  },
  {
   "cell_type": "code",
   "execution_count": 33,
   "id": "df0aa10f-c631-48f3-8300-80de0e80d039",
   "metadata": {},
   "outputs": [
    {
     "name": "stdout",
     "output_type": "stream",
     "text": [
      "Classification Report:\n",
      "              precision    recall  f1-score   support\n",
      "\n",
      "           0       0.96      0.99      0.98      5937\n",
      "           1       0.86      0.49      0.63       456\n",
      "\n",
      "    accuracy                           0.96      6393\n",
      "   macro avg       0.91      0.74      0.80      6393\n",
      "weighted avg       0.95      0.96      0.95      6393\n",
      "\n"
     ]
    }
   ],
   "source": [
    "print(\"Classification Report:\")\n",
    "print(classification_report(y_val, y_pred_rf))"
   ]
  },
  {
   "cell_type": "code",
   "execution_count": 34,
   "id": "e4ddc683-7242-4872-80cd-1ba0f37378d6",
   "metadata": {},
   "outputs": [
    {
     "name": "stdout",
     "output_type": "stream",
     "text": [
      "Validation F1-Score Naive Bayes: 0.6256983240223464\n"
     ]
    }
   ],
   "source": [
    "from sklearn.metrics import f1_score\n",
    "y_pred = rf.predict(X_val_tfidf)\n",
    "y_val_true = y_val\n",
    "\n",
    "f1 = f1_score(y_val_true, y_pred)\n",
    "print(\"Validation F1-Score Naive Bayes:\", f1)"
   ]
  },
  {
   "cell_type": "code",
   "execution_count": 36,
   "id": "cbe3c4d5-2f90-4a7b-977a-cb3c4acf1140",
   "metadata": {},
   "outputs": [],
   "source": [
    "from sklearn.ensemble import GradientBoostingClassifier\n",
    "gb = GradientBoostingClassifier(n_estimators=100, learning_rate=0.1, random_state=42)\n",
    "gb.fit(X_train_tfidf, y_train)\n",
    "y_pred_gb = gb.predict(X_val_tfidf)"
   ]
  },
  {
   "cell_type": "code",
   "execution_count": 37,
   "id": "9ff82189-221d-47d9-ade1-64a706bc9622",
   "metadata": {},
   "outputs": [
    {
     "name": "stdout",
     "output_type": "stream",
     "text": [
      "Validation metrics:\n",
      "Accuracy: 0.9457218833098702\n"
     ]
    }
   ],
   "source": [
    "print(\"Validation metrics:\")\n",
    "print(\"Accuracy:\", accuracy_score(y_val, y_pred_gb))"
   ]
  },
  {
   "cell_type": "code",
   "execution_count": 38,
   "id": "2b90b809-3e19-4079-bfc1-c4aa0ce234a2",
   "metadata": {},
   "outputs": [
    {
     "name": "stdout",
     "output_type": "stream",
     "text": [
      "Classification Report:\n",
      "              precision    recall  f1-score   support\n",
      "\n",
      "           0       0.95      1.00      0.97      5937\n",
      "           1       0.89      0.27      0.42       456\n",
      "\n",
      "    accuracy                           0.95      6393\n",
      "   macro avg       0.92      0.63      0.69      6393\n",
      "weighted avg       0.94      0.95      0.93      6393\n",
      "\n"
     ]
    }
   ],
   "source": [
    "print(\"Classification Report:\")\n",
    "print(classification_report(y_val, y_pred_gb))"
   ]
  },
  {
   "cell_type": "code",
   "execution_count": 39,
   "id": "3c588b8e-724e-492e-a35a-e88774799a4a",
   "metadata": {},
   "outputs": [
    {
     "name": "stdout",
     "output_type": "stream",
     "text": [
      "Validation F1-Score Naive Bayes: 0.41680672268907565\n"
     ]
    }
   ],
   "source": [
    "from sklearn.metrics import f1_score\n",
    "y_pred = gb.predict(X_val_tfidf)\n",
    "y_val_true = y_val\n",
    "\n",
    "f1 = f1_score(y_val_true, y_pred)\n",
    "print(\"Validation F1-Score Naive Bayes:\", f1)"
   ]
  },
  {
   "cell_type": "code",
   "execution_count": null,
   "id": "24e9269c-a9fe-4291-809b-862e78a18da2",
   "metadata": {},
   "outputs": [],
   "source": [
    "from sklearn.neural_network import MLPClassifier\n",
    "mlp = MLPClassifier(hidden_layer_sizes=(100,), max_iter=1000, random_state=42)\n",
    "mlp.fit(X_train_tfidf, y_train)\n",
    "y_pred_mlp = mlp.predict(X_val_tfidf)"
   ]
  },
  {
   "cell_type": "code",
   "execution_count": null,
   "id": "b492c0b6-f2d5-4d06-8dae-46c8ea99a404",
   "metadata": {},
   "outputs": [],
   "source": [
    "print(\"Validation metrics:\")\n",
    "print(\"Accuracy:\", accuracy_score(y_val, y_pred_mlp))"
   ]
  },
  {
   "cell_type": "code",
   "execution_count": null,
   "id": "3fb59496-f4cf-4e12-a38f-8b821a01be1f",
   "metadata": {},
   "outputs": [],
   "source": [
    "print(\"Classification Report:\")\n",
    "print(classification_report(y_val, y_pred_mlp))"
   ]
  }
 ],
 "metadata": {
  "kernelspec": {
   "display_name": "Python 3 (ipykernel)",
   "language": "python",
   "name": "python3"
  },
  "language_info": {
   "codemirror_mode": {
    "name": "ipython",
    "version": 3
   },
   "file_extension": ".py",
   "mimetype": "text/x-python",
   "name": "python",
   "nbconvert_exporter": "python",
   "pygments_lexer": "ipython3",
   "version": "3.11.7"
  }
 },
 "nbformat": 4,
 "nbformat_minor": 5
}
