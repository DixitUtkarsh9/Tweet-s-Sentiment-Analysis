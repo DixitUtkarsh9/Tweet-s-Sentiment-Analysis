{
 "cells": [
  {
   "cell_type": "code",
   "execution_count": 15,
   "id": "da9b91bb-b97c-4d86-a8ee-c46c231f2fc5",
   "metadata": {},
   "outputs": [],
   "source": [
    "import pandas as pd\n",
    "import numpy as np\n",
    "from nltk.tokenize import word_tokenize\n",
    "from nltk.corpus import stopwords\n",
    "from sklearn.feature_extraction.text import TfidfVectorizer\n",
    "from sklearn.model_selection import train_test_split\n",
    "from keras.models import Sequential\n",
    "from keras.layers import Embedding, LSTM, Dense"
   ]
  },
  {
   "cell_type": "code",
   "execution_count": 3,
   "id": "8080c763-4180-4527-ad1c-13f2c7340460",
   "metadata": {},
   "outputs": [],
   "source": [
    "train_df = pd.read_csv('train_E6oV3lV.csv')                       "
   ]
  },
  {
   "cell_type": "code",
   "execution_count": 4,
   "id": "07c00c55-b6e6-4b88-bd25-fc78d8b74252",
   "metadata": {},
   "outputs": [],
   "source": [
    "X_train, X_val, y_train, y_val = train_test_split(train_df['tweet'], train_df['label'], test_size=0.2, random_state=42)\n",
    "\n",
    "stop_words = set(stopwords.words('english'))\n",
    "\n",
    "def tokenize_tweet(tweet):\n",
    "    tokens = word_tokenize(tweet.lower())\n",
    "    tokens = [token for token in tokens if token not in stop_words]\n",
    "    return ' '.join(tokens)"
   ]
  },
  {
   "cell_type": "code",
   "execution_count": 5,
   "id": "6e6131c7-d18d-4afa-8378-8b43cd8d9831",
   "metadata": {},
   "outputs": [],
   "source": [
    "X_train_tokenized = X_train.apply(tokenize_tweet)\n",
    "X_val_tokenized = X_val.apply(tokenize_tweet)"
   ]
  },
  {
   "cell_type": "code",
   "execution_count": 6,
   "id": "64a298b2-ba80-4256-a8ae-dd9797828124",
   "metadata": {},
   "outputs": [],
   "source": [
    "vectorizer = TfidfVectorizer(max_features=5000)\n",
    "X_train_tfidf = vectorizer.fit_transform(X_train_tokenized)\n",
    "X_val_tfidf = vectorizer.fit_transform(X_val_tokenized)"
   ]
  },
  {
   "cell_type": "code",
   "execution_count": 7,
   "id": "b931f05a-3f53-46a7-af1e-bee53f68d009",
   "metadata": {},
   "outputs": [],
   "source": [
    "max_length = 200\n",
    "X_train_sequences = X_train_tfidf.toarray()\n",
    "X_val_sequences = X_val_tfidf.toarray()"
   ]
  },
  {
   "cell_type": "code",
   "execution_count": 8,
   "id": "9987aada-0211-43ec-872a-a0e2b6bd3c97",
   "metadata": {},
   "outputs": [
    {
     "name": "stderr",
     "output_type": "stream",
     "text": [
      "C:\\Anaconda\\Lib\\site-packages\\keras\\src\\layers\\core\\embedding.py:86: UserWarning: Argument `input_length` is deprecated. Just remove it.\n",
      "  warnings.warn(\n"
     ]
    }
   ],
   "source": [
    "model1 = Sequential()\n",
    "model1.add(Embedding(input_dim=5000, output_dim=128, input_length=max_length))\n",
    "model1.add(LSTM(64, dropout=0.2))\n",
    "model1.add(Dense(8, activation='softmax'))"
   ]
  },
  {
   "cell_type": "code",
   "execution_count": 10,
   "id": "caa1c2c2-ad66-4de3-8559-566f77bb0b1a",
   "metadata": {},
   "outputs": [],
   "source": [
    "model1.compile(optimizer='adam', loss='sparse_categorical_crossentropy', metrics=['accuracy'])"
   ]
  },
  {
   "cell_type": "code",
   "execution_count": 11,
   "id": "753d8f32-fc0e-4a89-b9a9-5bf31fc936ce",
   "metadata": {},
   "outputs": [
    {
     "name": "stdout",
     "output_type": "stream",
     "text": [
      "Epoch 1/5\n",
      "\u001b[1m800/800\u001b[0m \u001b[32m━━━━━━━━━━━━━━━━━━━━\u001b[0m\u001b[37m\u001b[0m \u001b[1m2804s\u001b[0m 4s/step - accuracy: 0.9217 - loss: 0.3743 - val_accuracy: 0.9287 - val_loss: 0.2583\n",
      "Epoch 2/5\n",
      "\u001b[1m800/800\u001b[0m \u001b[32m━━━━━━━━━━━━━━━━━━━━\u001b[0m\u001b[37m\u001b[0m \u001b[1m35453s\u001b[0m 44s/step - accuracy: 0.9309 - loss: 0.2528 - val_accuracy: 0.9287 - val_loss: 0.2637\n",
      "Epoch 3/5\n",
      "\u001b[1m800/800\u001b[0m \u001b[32m━━━━━━━━━━━━━━━━━━━━\u001b[0m\u001b[37m\u001b[0m \u001b[1m11179s\u001b[0m 14s/step - accuracy: 0.9315 - loss: 0.2512 - val_accuracy: 0.9287 - val_loss: 0.2600\n",
      "Epoch 4/5\n",
      "\u001b[1m800/800\u001b[0m \u001b[32m━━━━━━━━━━━━━━━━━━━━\u001b[0m\u001b[37m\u001b[0m \u001b[1m3538s\u001b[0m 4s/step - accuracy: 0.9302 - loss: 0.2543 - val_accuracy: 0.9287 - val_loss: 0.2592\n",
      "Epoch 5/5\n",
      "\u001b[1m800/800\u001b[0m \u001b[32m━━━━━━━━━━━━━━━━━━━━\u001b[0m\u001b[37m\u001b[0m \u001b[1m9236s\u001b[0m 12s/step - accuracy: 0.9289 - loss: 0.2579 - val_accuracy: 0.9287 - val_loss: 0.2587\n"
     ]
    },
    {
     "data": {
      "text/plain": [
       "<keras.src.callbacks.history.History at 0x25156a040d0>"
      ]
     },
     "execution_count": 11,
     "metadata": {},
     "output_type": "execute_result"
    }
   ],
   "source": [
    "model1.fit(X_train_tfidf, y_train, epochs=5, batch_size=32, validation_data=(X_val_tfidf, y_val))"
   ]
  },
  {
   "cell_type": "code",
   "execution_count": 16,
   "id": "7bb921f0-5003-4f28-bf15-959780a42395",
   "metadata": {},
   "outputs": [],
   "source": [
    "test_df = pd.read_csv('test_tweets_anuFYb8.csv')"
   ]
  },
  {
   "cell_type": "code",
   "execution_count": 17,
   "id": "7f5be49b-bc94-45c3-9496-1bf700b9174c",
   "metadata": {},
   "outputs": [],
   "source": [
    "X_test_tokenized = test_df['tweet'].apply(tokenize_tweet)\n",
    "X_test_tfidf = vectorizer.transform(X_test_tokenized)"
   ]
  },
  {
   "cell_type": "code",
   "execution_count": 20,
   "id": "d39bad4f-5192-403c-b446-9fa1819c42b3",
   "metadata": {},
   "outputs": [],
   "source": [
    "from sklearn.metrics import accuracy_score, classification_report, confusion_matrix"
   ]
  },
  {
   "cell_type": "code",
   "execution_count": 27,
   "id": "baeb24d0-428b-43e3-a578-bfe36caad8d7",
   "metadata": {},
   "outputs": [
    {
     "name": "stdout",
     "output_type": "stream",
     "text": [
      "\u001b[1m200/200\u001b[0m \u001b[32m━━━━━━━━━━━━━━━━━━━━\u001b[0m\u001b[37m\u001b[0m \u001b[1m83s\u001b[0m 414ms/step\n"
     ]
    }
   ],
   "source": [
    "y_pred_test = model1.predict(X_val_tfidf)"
   ]
  },
  {
   "cell_type": "code",
   "execution_count": 28,
   "id": "0512b0cb-1798-40de-9802-acc90e4ad616",
   "metadata": {},
   "outputs": [
    {
     "name": "stdout",
     "output_type": "stream",
     "text": [
      "Validation metrics:\n",
      "Accuracy: 0.9286719849835758\n"
     ]
    }
   ],
   "source": [
    "print(\"Validation metrics:\")\n",
    "print(\"Accuracy:\", accuracy_score(y_val, y_pred_val.argmax(-1)))"
   ]
  },
  {
   "cell_type": "code",
   "execution_count": 29,
   "id": "25a6c9e6-8352-45a8-bb41-96157346fbd3",
   "metadata": {},
   "outputs": [
    {
     "name": "stdout",
     "output_type": "stream",
     "text": [
      "Classification Report:\n",
      "              precision    recall  f1-score   support\n",
      "\n",
      "           0       0.93      1.00      0.96      5937\n",
      "           1       0.00      0.00      0.00       456\n",
      "\n",
      "    accuracy                           0.93      6393\n",
      "   macro avg       0.46      0.50      0.48      6393\n",
      "weighted avg       0.86      0.93      0.89      6393\n",
      "\n"
     ]
    },
    {
     "name": "stderr",
     "output_type": "stream",
     "text": [
      "C:\\Anaconda\\Lib\\site-packages\\sklearn\\metrics\\_classification.py:1344: UndefinedMetricWarning: Precision and F-score are ill-defined and being set to 0.0 in labels with no predicted samples. Use `zero_division` parameter to control this behavior.\n",
      "  _warn_prf(average, modifier, msg_start, len(result))\n",
      "C:\\Anaconda\\Lib\\site-packages\\sklearn\\metrics\\_classification.py:1344: UndefinedMetricWarning: Precision and F-score are ill-defined and being set to 0.0 in labels with no predicted samples. Use `zero_division` parameter to control this behavior.\n",
      "  _warn_prf(average, modifier, msg_start, len(result))\n",
      "C:\\Anaconda\\Lib\\site-packages\\sklearn\\metrics\\_classification.py:1344: UndefinedMetricWarning: Precision and F-score are ill-defined and being set to 0.0 in labels with no predicted samples. Use `zero_division` parameter to control this behavior.\n",
      "  _warn_prf(average, modifier, msg_start, len(result))\n"
     ]
    }
   ],
   "source": [
    "print(\"Classification Report:\")\n",
    "print(classification_report(y_val, y_pred_val.argmax(-1)))"
   ]
  },
  {
   "cell_type": "code",
   "execution_count": 30,
   "id": "d6525ad2-d90d-442d-b48d-0a668acd6787",
   "metadata": {},
   "outputs": [
    {
     "name": "stdout",
     "output_type": "stream",
     "text": [
      "Confusion Matrix:\n",
      "[[5937    0]\n",
      " [ 456    0]]\n"
     ]
    }
   ],
   "source": [
    "print(\"Confusion Matrix:\")\n",
    "print(confusion_matrix(y_val, y_pred_val.argmax(-1)))"
   ]
  },
  {
   "cell_type": "code",
   "execution_count": 31,
   "id": "e3608b39-dc43-43dc-97d2-f90a5bfab2f5",
   "metadata": {},
   "outputs": [],
   "source": [
    "submission_df = pd.DataFrame({'label': y_pred_test.argmax(-1)})\n",
    "submission_df.to_csv('submission_lstm.csv', index=False)"
   ]
  },
  {
   "cell_type": "code",
   "execution_count": null,
   "id": "47bc4196-8182-40b8-8a26-1cf4f6706b64",
   "metadata": {},
   "outputs": [],
   "source": []
  }
 ],
 "metadata": {
  "kernelspec": {
   "display_name": "Python 3 (ipykernel)",
   "language": "python",
   "name": "python3"
  },
  "language_info": {
   "codemirror_mode": {
    "name": "ipython",
    "version": 3
   },
   "file_extension": ".py",
   "mimetype": "text/x-python",
   "name": "python",
   "nbconvert_exporter": "python",
   "pygments_lexer": "ipython3",
   "version": "3.11.7"
  }
 },
 "nbformat": 4,
 "nbformat_minor": 5
}
